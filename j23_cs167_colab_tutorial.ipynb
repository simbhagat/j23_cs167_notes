{
  "nbformat": 4,
  "nbformat_minor": 0,
  "metadata": {
    "colab": {
      "provenance": [],
      "authorship_tag": "ABX9TyPdhU6b5sCUdODVDL4rJ/dh",
      "include_colab_link": true
    },
    "kernelspec": {
      "name": "python3",
      "display_name": "Python 3"
    },
    "language_info": {
      "name": "python"
    }
  },
  "cells": [
    {
      "cell_type": "markdown",
      "metadata": {
        "id": "view-in-github",
        "colab_type": "text"
      },
      "source": [
        "<a href=\"https://colab.research.google.com/github/simbhagat/j23_cs167_notes/blob/main/j23_cs167_colab_tutorial.ipynb\" target=\"_parent\"><img src=\"https://colab.research.google.com/assets/colab-badge.svg\" alt=\"Open In Colab\"/></a>"
      ]
    },
    {
      "cell_type": "markdown",
      "source": [
        "# Colab Tutorial\n",
        "Jan 3rd, 2023\n",
        "\n",
        "You can run Python code in Colab. Use the shorcut `shift + return`\n",
        "\n",
        "Markdown basics:\n",
        "- **bold text**, also __Bold text__\n",
        "- *italicized*, also _italicized\n",
        "- `typewriter text`\n",
        "- [something linky](www.google.com)\n",
        "  - new level of indent\n",
        "- markdown table generator for tables"
      ],
      "metadata": {
        "id": "G1MBPqvwh5Wu"
      }
    },
    {
      "cell_type": "code",
      "source": [
        "x = 3 +2\n",
        "x;"
      ],
      "metadata": {
        "colab": {
          "base_uri": "https://localhost:8080/"
        },
        "id": "W6wMn_Q7h_3B",
        "outputId": "9aa557b5-89ea-45ac-de12-6b97bc1e8e56"
      },
      "execution_count": 1,
      "outputs": [
        {
          "output_type": "stream",
          "name": "stdout",
          "text": [
            "5\n"
          ]
        }
      ]
    }
  ]
}